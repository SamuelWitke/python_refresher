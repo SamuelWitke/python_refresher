{
 "cells": [
  {
   "cell_type": "markdown",
   "metadata": {},
   "source": [
    "### Output in a Jupyter Notebook\n",
    "Only two of the previous four code cells generate an output while two remained \"silent\" (i.e., nothing appears below the cell after running it).\n",
    "\n",
    "By default, Jupyter notebooks only show the value of the expression in the last line of a code cell. And, this output may also be suppressed by ending the last line with a semicolon ;"
   ]
  },
  {
   "cell_type": "code",
   "execution_count": null,
   "metadata": {},
   "outputs": [],
   "source": []
  },
  {
   "cell_type": "markdown",
   "metadata": {},
   "source": [
    "\n",
    "# (Arithmetic) Operators¶\n",
    "Python comes with many built-in operators: They are tokens (i.e., \"symbols\") that have a special meaning to the Python interpreter.\n",
    "\n",
    "https://www.w3schools.com/python/python_operators.asp"
   ]
  },
  {
   "cell_type": "markdown",
   "metadata": {},
   "source": [
    "<table class=\"w3-table-all notranslate\">\n",
    "<tbody><tr>\n",
    "<th style=\"width:25%\">Operator</th>\n",
    "<th style=\"width:35%\">Name</th>\n",
    "<th style=\"width:30%\">Example</th>\n",
    "<th style=\"width:10%\">Try it</th>\n",
    "</tr>\n",
    "<tr>\n",
    "<td>+</td>\n",
    "<td>Addition</td>\n",
    "<td>x + y</td>\n",
    "<td><a target=\"_blank\" class=\"w3-btn btnsmall btnsmall\" href=\"trypython.asp?filename=demo_oper_add\">Try it »</a></td>\n",
    "</tr>\n",
    "<tr>\n",
    "<td>-</td>\n",
    "<td>Subtraction</td>\n",
    "<td>x - y</td>\n",
    "<td><a target=\"_blank\" class=\"w3-btn btnsmall btnsmall\" href=\"trypython.asp?filename=demo_oper_sub\">Try it »</a></td>\n",
    "</tr>\n",
    "<tr>\n",
    "<td>*</td>\n",
    "<td>Multiplication</td>\n",
    "<td>x * y</td>\n",
    "<td><a target=\"_blank\" class=\"w3-btn btnsmall btnsmall\" href=\"trypython.asp?filename=demo_oper_mult\">Try it »</a></td>\n",
    "</tr>\n",
    "<tr>\n",
    "<td>/</td>\n",
    "<td>Division</td>\n",
    "<td>x / y</td>\n",
    "<td><a target=\"_blank\" class=\"w3-btn btnsmall btnsmall\" href=\"trypython.asp?filename=demo_oper_div\">Try it »</a></td>\n",
    "</tr>\n",
    "<tr>\n",
    "<td>%</td>\n",
    "<td>Modulus</td>\n",
    "<td>x % y</td>\n",
    "<td><a target=\"_blank\" class=\"w3-btn btnsmall btnsmall\" href=\"trypython.asp?filename=demo_oper_mod\">Try it »</a></td>\n",
    "</tr>\n",
    "  <tr>\n",
    "<td>**</td>\n",
    "<td>Exponentiation</td>\n",
    "<td>x ** y</td>\n",
    "<td><a target=\"_blank\" class=\"w3-btn btnsmall btnsmall\" href=\"trypython.asp?filename=demo_oper_exp\">Try it »</a></td>\n",
    "  </tr>\n",
    "<tr>\n",
    "<td>//</td>\n",
    "<td>Floor division</td>\n",
    "<td>x // y</td>\n",
    "<td><a target=\"_blank\" class=\"w3-btn btnsmall btnsmall\" href=\"trypython.asp?filename=demo_oper_floordiv\">Try it »</a></td>\n",
    "</tr>\n",
    "</tbody></table>"
   ]
  },
  {
   "cell_type": "code",
   "execution_count": 2,
   "metadata": {},
   "outputs": [
    {
     "name": "stdout",
     "output_type": "stream",
     "text": [
      "(3,5)\n"
     ]
    }
   ],
   "source": [
    "\"\"\"\n",
    "Operator Overloading\n",
    "\"\"\"\n",
    "class Point:\n",
    "    \"\"\"\n",
    "        Class functions that begin \n",
    "        with double underscore \n",
    "        __ are called special functions in Python.\n",
    "    \"\"\"\n",
    "    def __init__(self, x: int = 0 , y: int=0):\n",
    "        self.x = x\n",
    "        self.y = y\n",
    "        \n",
    "\n",
    "    def __str__(self):  \n",
    "        \"\"\"\n",
    "        Required or std:out will be <__main__.Point object at 0x7fd6a57ab3d0>\n",
    "        \"\"\"\n",
    "        return \"({0},{1})\".format(self.x, self.y)\n",
    "    \n",
    "    def __add__(self, other):\n",
    "        x = self.x + other.x\n",
    "        y = self.y + other.y\n",
    "        return Point(x, y)\n",
    "    \n",
    "\n",
    "p1 = Point(1, 2)\n",
    "p2 = Point(2, 3)\n",
    "print(p1+p2)"
   ]
  },
  {
   "cell_type": "markdown",
   "metadata": {},
   "source": [
    "\n",
    "<table border=\"0\">\n",
    "\t\t<tbody>\n",
    "\t\t\t<tr>\n",
    "\t\t\t\t<th>Operator</th>\n",
    "\t\t\t\t<th>Expression</th>\n",
    "\t\t\t\t<th>Internally</th>\n",
    "\t\t\t</tr>\n",
    "\t\t\t<tr>\n",
    "\t\t\t\t<td>Addition</td>\n",
    "\t\t\t\t<td><code>p1 + p2</code></td>\n",
    "\t\t\t\t<td><code>p1.__add__(p2)</code></td>\n",
    "\t\t\t</tr>\n",
    "\t\t\t<tr>\n",
    "\t\t\t\t<td>Subtraction</td>\n",
    "\t\t\t\t<td><code>p1 - p2</code></td>\n",
    "\t\t\t\t<td><code>p1.__sub__(p2)</code></td>\n",
    "\t\t\t</tr>\n",
    "\t\t\t<tr>\n",
    "\t\t\t\t<td>Multiplication</td>\n",
    "\t\t\t\t<td><code>p1 * p2</code></td>\n",
    "\t\t\t\t<td><code>p1.__mul__(p2)</code></td>\n",
    "\t\t\t</tr>\n",
    "\t\t\t<tr>\n",
    "\t\t\t\t<td>Power</td>\n",
    "\t\t\t\t<td><code>p1 ** p2</code></td>\n",
    "\t\t\t\t<td><code>p1.__pow__(p2)</code></td>\n",
    "\t\t\t</tr>\n",
    "\t\t\t<tr>\n",
    "\t\t\t\t<td>Division</td>\n",
    "\t\t\t\t<td><code>p1 / p2</code></td>\n",
    "\t\t\t\t<td><code>p1.__truediv__(p2)</code></td>\n",
    "\t\t\t</tr>\n",
    "\t\t\t<tr>\n",
    "\t\t\t\t<td>Floor Division</td>\n",
    "\t\t\t\t<td><code>p1 // p2</code></td>\n",
    "\t\t\t\t<td><code>p1.__floordiv__(p2)</code></td>\n",
    "\t\t\t</tr>\n",
    "\t\t\t<tr>\n",
    "\t\t\t\t<td>Remainder (modulo)</td>\n",
    "\t\t\t\t<td><code>p1 % p2</code></td>\n",
    "\t\t\t\t<td><code>p1.__mod__(p2)</code></td>\n",
    "\t\t\t</tr>\n",
    "\t\t\t<tr>\n",
    "\t\t\t\t<td>Bitwise Left Shift</td>\n",
    "\t\t\t\t<td><code>p1 &lt;&lt; p2</code></td>\n",
    "\t\t\t\t<td><code>p1.__lshift__(p2)</code></td>\n",
    "\t\t\t</tr>\n",
    "\t\t\t<tr>\n",
    "\t\t\t\t<td>Bitwise Right Shift</td>\n",
    "\t\t\t\t<td><code>p1 &gt;&gt; p2</code></td>\n",
    "\t\t\t\t<td><code>p1.__rshift__(p2)</code></td>\n",
    "\t\t\t</tr>\n",
    "\t\t\t<tr>\n",
    "\t\t\t\t<td>Bitwise AND</td>\n",
    "\t\t\t\t<td><code>p1 &amp; p2</code></td>\n",
    "\t\t\t\t<td><code>p1.__and__(p2)</code></td>\n",
    "\t\t\t</tr>\n",
    "\t\t\t<tr>\n",
    "\t\t\t\t<td>Bitwise OR</td>\n",
    "\t\t\t\t<td><code>p1 | p2</code></td>\n",
    "\t\t\t\t<td><code>p1.__or__(p2)</code></td>\n",
    "\t\t\t</tr>\n",
    "\t\t\t<tr>\n",
    "\t\t\t\t<td>Bitwise XOR</td>\n",
    "\t\t\t\t<td><code>p1 ^ p2</code></td>\n",
    "\t\t\t\t<td><code>p1.__xor__(p2)</code></td>\n",
    "\t\t\t</tr>\n",
    "\t\t\t<tr>\n",
    "\t\t\t\t<td>Bitwise NOT</td>\n",
    "\t\t\t\t<td><code>~p1</code></td>\n",
    "\t\t\t\t<td><code>p1.__invert__()</code></td>\n",
    "\t\t\t</tr>\n",
    "\t\t</tbody>\n",
    "         <tfoot>\n",
    "    <tr>\n",
    "      <td>Source</td>\n",
    "         <td></td>\n",
    "      <td>\n",
    "                      <a href=\"https://www.programiz.com/python-programming/operator-overloading\">\n",
    "    Link \n",
    "</a>\n",
    "        </td>\n",
    "    </tr>\n",
    "  </tfoot>\n",
    "\t</table>"
   ]
  },
  {
   "cell_type": "markdown",
   "metadata": {},
   "source": [
    "Multiplication Operator Overloading of the String Class "
   ]
  },
  {
   "cell_type": "code",
   "execution_count": 8,
   "metadata": {},
   "outputs": [
    {
     "data": {
      "text/plain": [
       "'(3,5)(3,5)(3,5)(3,5)(3,5)(3,5)(3,5)(3,5)(3,5)(3,5)'"
      ]
     },
     "execution_count": 8,
     "metadata": {},
     "output_type": "execute_result"
    }
   ],
   "source": [
    "10 * str(p1+p2)"
   ]
  },
  {
   "cell_type": "markdown",
   "metadata": {},
   "source": [
    "# Conditionals & Exceptions"
   ]
  },
  {
   "cell_type": "markdown",
   "metadata": {},
   "source": [
    "## Equality Operator ==:"
   ]
  },
  {
   "cell_type": "code",
   "execution_count": 10,
   "metadata": {},
   "outputs": [],
   "source": [
    "a = 42"
   ]
  },
  {
   "cell_type": "code",
   "execution_count": 12,
   "metadata": {},
   "outputs": [],
   "source": [
    "b = 42.0"
   ]
  },
  {
   "cell_type": "code",
   "execution_count": 15,
   "metadata": {},
   "outputs": [
    {
     "data": {
      "text/plain": [
       "True"
      ]
     },
     "execution_count": 15,
     "metadata": {},
     "output_type": "execute_result"
    }
   ],
   "source": [
    "a == b"
   ]
  },
  {
   "cell_type": "markdown",
   "metadata": {},
   "source": [
    "The == operator handles objects of different types: Because of that, it implements a notion of equality in line with how humans think of things being equal or not. After all, 42 and 42.0 are different 0s and 1s for a computer and other programming languages may say False here! Technically, this is yet another example of operator overloading."
   ]
  },
  {
   "cell_type": "markdown",
   "metadata": {},
   "source": [
    "## Identity Operator"
   ]
  },
  {
   "cell_type": "code",
   "execution_count": 14,
   "metadata": {},
   "outputs": [
    {
     "data": {
      "text/plain": [
       "False"
      ]
     },
     "execution_count": 14,
     "metadata": {},
     "output_type": "execute_result"
    }
   ],
   "source": [
    "a is b"
   ]
  },
  {
   "cell_type": "markdown",
   "metadata": {},
   "source": [
    "On the contrary, a and b are different objects as the identity operator is shows: They are stored at different addresses in the memory."
   ]
  },
  {
   "cell_type": "markdown",
   "metadata": {},
   "source": [
    "# Exceptions"
   ]
  },
  {
   "cell_type": "code",
   "execution_count": 20,
   "metadata": {},
   "outputs": [
    {
     "name": "stdout",
     "output_type": "stream",
     "text": [
      "Something went wrong\n"
     ]
    }
   ],
   "source": [
    "import random\n",
    "\n",
    "user_input = random.choice([0, 1, 2, 3, 4, 5])\n",
    "\n",
    "try:\n",
    "    print(\"The result is\", 1 / user_input)\n",
    "except:\n",
    "    print(\"Something went wrong\")"
   ]
  },
  {
   "cell_type": "markdown",
   "metadata": {},
   "source": [
    "With the compound try statement (cf., reference ), we can handle any runtime error."
   ]
  },
  {
   "cell_type": "markdown",
   "metadata": {},
   "source": [
    "### Creating Custom Exceptions"
   ]
  },
  {
   "cell_type": "code",
   "execution_count": 30,
   "metadata": {},
   "outputs": [
    {
     "name": "stdin",
     "output_type": "stream",
     "text": [
      "Enter A Number 1\n"
     ]
    }
   ],
   "source": [
    "i = int(input(\"Enter A Number\"))"
   ]
  },
  {
   "cell_type": "markdown",
   "metadata": {},
   "source": [
    "if i < 2: \n",
    "    raise ValueError(\"Too Small\")"
   ]
  },
  {
   "cell_type": "code",
   "execution_count": null,
   "metadata": {},
   "outputs": [],
   "source": []
  },
  {
   "cell_type": "markdown",
   "metadata": {},
   "source": []
  },
  {
   "cell_type": "markdown",
   "metadata": {},
   "source": [
    "# Recursion & Looping"
   ]
  },
  {
   "cell_type": "markdown",
   "metadata": {},
   "source": [
    "### Question for class:."
   ]
  },
  {
   "cell_type": "markdown",
   "metadata": {},
   "source": [
    "Write a method countdown() on NewYear \n",
    "If called with any positive integer as its n argument, just prints that number and calls itself with the new n being the old n minus 1. \n",
    "This continues until countdown() is called with n=0. \n",
    "Then, the flow of execution hits the base case, and the function calls stop"
   ]
  },
  {
   "cell_type": "code",
   "execution_count": null,
   "metadata": {},
   "outputs": [],
   "source": []
  },
  {
   "cell_type": "code",
   "execution_count": 41,
   "metadata": {},
   "outputs": [
    {
     "name": "stdout",
     "output_type": "stream",
     "text": [
      "3\n",
      "2\n",
      "1\n",
      "Happy New Year!!\n"
     ]
    }
   ],
   "source": [
    "c = NewYear()\n",
    "c.countdown(3)"
   ]
  },
  {
   "cell_type": "markdown",
   "metadata": {},
   "source": [
    "# Looping"
   ]
  },
  {
   "cell_type": "markdown",
   "metadata": {},
   "source": [
    "Method #1: Using For loop\n",
    "Method #2: For loop and range()\n",
    "Method #2: For loop and range()\n",
    "Method #4: Using list comprehension (Possibly the most concrete way).\n",
    "Method #5: Using enumerate()\n",
    "https://www.dataquest.io/blog/tutorial-advanced-for-loops-python-pandas/\n",
    "\n",
    "\n",
    "\n"
   ]
  },
  {
   "cell_type": "code",
   "execution_count": 45,
   "metadata": {},
   "outputs": [
    {
     "name": "stdout",
     "output_type": "stream",
     "text": [
      "1\n",
      "3\n",
      "5\n",
      "7\n",
      "9\n"
     ]
    }
   ],
   "source": []
  },
  {
   "cell_type": "code",
   "execution_count": null,
   "metadata": {},
   "outputs": [],
   "source": []
  }
 ],
 "metadata": {
  "kernelspec": {
   "display_name": "Python 3",
   "language": "python",
   "name": "python3"
  },
  "language_info": {
   "codemirror_mode": {
    "name": "ipython",
    "version": 3
   },
   "file_extension": ".py",
   "mimetype": "text/x-python",
   "name": "python",
   "nbconvert_exporter": "python",
   "pygments_lexer": "ipython3",
   "version": "3.7.6"
  }
 },
 "nbformat": 4,
 "nbformat_minor": 4
}
